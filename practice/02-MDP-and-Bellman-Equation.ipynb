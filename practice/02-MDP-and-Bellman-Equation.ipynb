{
 "cells": [
  {
   "cell_type": "markdown",
   "metadata": {},
   "source": [
    "2020-1-11 19:57:40\n",
    "刚刚读完《强化学习（第二版）》第三章：有限马尔科夫决策过程，印象深刻的有：\n",
    "- 贝尔曼方程。"
   ]
  },
  {
   "cell_type": "markdown",
   "metadata": {
    "ExecuteTime": {
     "end_time": "2020-01-11T11:59:45.286758Z",
     "start_time": "2020-01-11T11:59:45.282797Z"
    }
   },
   "source": [
    "### 贝尔曼方程是什么\n",
    "\n",
    "$$\\begin{aligned} \n",
    "v_\\pi (s) = & \\mathbb{E}_\\pi [G_t | S_t = s] \\\\\n",
    "= & \\mathbb{E}_{\\pi} [R_{t+1} + \\gamma G_{t+1} | S_t = s] \\\\\n",
    "= & \\sum_a \\pi(a|s) \\sum_{s'} \\sum_{r} p(s', r| s,a) \\left[ r + \\gamma \\mathbb{E}_\\pi [G_{t+1} | S_{t+1} = s'] \\right] \\\\\n",
    "= &\\sum_a \\pi(a|s) \\sum_{s',r} p(s',r|s,a)[r + \\gamma v_\\pi (s')] \\quad for \\; all \\; s \\in S\n",
    "\\end{aligned}$$\n",
    "\n",
    "各符号意义：\n",
    "- 上图中，$v_\\pi(s)$表示在状态s下的，使用策略集$\\pi$的价值；\n",
    "- $G_t$就是在当前时刻$t$所产生的“回报”，在有限时刻中，通常引入折扣率$\\gamma$的概念，将$G_t$定义为$G_t = R_{t+1} + \\gamma G_{t+1}$，表示下一步对当前决策影响最大，时间越远，影响越小；\n",
    "- $\\pi(a|s)$是策略，在我看来就是在状态$s$下选择动作$a$的概率；\n",
    "- $p()$是状态转移概率，$r$是回报。\n",
    "\n",
    "对这个方程我还有个通俗的解释，请见[https://blog.csdn.net/weixin_42815609/article/details/103934891](https://blog.csdn.net/weixin_42815609/article/details/103934891)。"
   ]
  },
  {
   "cell_type": "markdown",
   "metadata": {},
   "source": [
    "### 贝尔曼方程用处\n",
    "\n",
    "其实只在理论上有用（目前在我看来）。\n",
    "\n",
    "#### 贝尔曼方程组\n",
    "\n",
    "$$\n",
    "\\begin{aligned}\n",
    "& v(s_1) = f(v(s_1), v(s_2), ..., v(s_n)) \\\\\n",
    "& v(s_2) = f(v(s_1), v(s_2), ..., v(s_n)) \\\\\n",
    "& ... \\\\\n",
    "& v(s_n) = f(v(s_1), v(s_2), ..., v(s_n)) \\\\\n",
    "\\end{aligned}\n",
    "$$\n",
    "\n",
    "可见，这构造了一个关于$v(s_i)$的n元1次方程组，可以求解每个状态的价值。\n",
    "\n",
    "当然，这里$v_\\pi (s)$简写成了$v(s)$，我们知道每个状态的价值是由策略决定的，策略糟糕，价值低。\n",
    "\n",
    "#### 贝尔曼最优方程\n",
    "\n",
    "最优方程说明：最优策略下各个状态的价值一定等于这个状态下最优动作的期望回报。\n",
    "\n",
    "假设只有2个状态（$s_1$与$s_2$），对于状态$s_1$，其最优价值：\n",
    "\n",
    "$$v_* (s_1) = =\\max \\left\\{ \\begin{aligned}\n",
    "& p(s_1 | s_1, a_1) [r(s_1, a_1, s_1) + \\gamma v_* (s_1)] + \n",
    "p(s_2 | s_1, a_1) [r(s_2, a_1, s_1) + \\gamma v_* (s_2)] \\\\\n",
    "& p(s_1 | s_1, a_2) [r(s_1, a_2, s_1) + \\gamma v_* (s_1)] + \n",
    "p(s_2 | s_1, a_2) [r(s_2, a_2, s_1) + \\gamma v_* (s_2)] \\\\\n",
    "& ... \\\\\n",
    "& p(s_1 | s_1, a_n) [r(s_1, a_n, s_1) + \\gamma v_* (s_1)] + \n",
    "p(s_2 | s_1, a_n) [r(s_2, a_n, s_1) + \\gamma v_* (s_2)] \\\\\n",
    "\\end{aligned} \\right\\}$$\n",
    "\n",
    "如上，是需要选择出一个/多个最优动作的。\n",
    "\n",
    "如果将两个状态的方程式联立，则计算量急剧增大。\n",
    "\n",
    "**而对于状态多的更不用说，几乎不可计算。因此，要使用近似算。**"
   ]
  },
  {
   "cell_type": "markdown",
   "metadata": {
    "ExecuteTime": {
     "end_time": "2020-01-11T12:21:49.968997Z",
     "start_time": "2020-01-11T12:21:49.962985Z"
    }
   },
   "source": [
    "### 复现一下网格问题\n",
    "\n",
    "#### 问题描述\n",
    "\n",
    "![](images/03_grid_world.jpg)"
   ]
  },
  {
   "cell_type": "markdown",
   "metadata": {},
   "source": [
    "#### 注意下面的分析也很有趣"
   ]
  },
  {
   "cell_type": "markdown",
   "metadata": {
    "ExecuteTime": {
     "end_time": "2020-01-11T12:23:55.319564Z",
     "start_time": "2020-01-11T12:23:55.314576Z"
    }
   },
   "source": [
    "#### 复现\n",
    "\n",
    "参考[https://github.com/ShangtongZhang/reinforcement-learning-an-introduction](https://github.com/ShangtongZhang/reinforcement-learning-an-introduction)。\n",
    "\n",
    "复现了策略={上下左右概率一样}与策略={最优}时。"
   ]
  },
  {
   "cell_type": "code",
   "execution_count": 31,
   "metadata": {
    "ExecuteTime": {
     "end_time": "2020-01-11T12:51:19.118125Z",
     "start_time": "2020-01-11T12:51:19.110146Z"
    }
   },
   "outputs": [],
   "source": [
    "import matplotlib\n",
    "import matplotlib.pyplot as plt\n",
    "import numpy as np\n",
    "from matplotlib.table import Table\n",
    "%matplotlib inline\n",
    "\n",
    "WORLD_SIZE = 5\n",
    "A_POS = [0, 1]\n",
    "A_PRIME_POS = [4, 1]\n",
    "B_POS = [0, 3]\n",
    "B_PRIME_POS = [2, 3]\n",
    "DISCOUNT = 0.9\n",
    "\n",
    "# left, up, right, down\n",
    "# 用坐标表示动作，比如向左ACTIONS[0]，即y+0，x-1\n",
    "ACTIONS = [np.array([0, -1]),\n",
    "           np.array([-1, 0]),\n",
    "           np.array([0, 1]),\n",
    "           np.array([1, 0])]\n",
    "ACTION_PROB = 0.25"
   ]
  },
  {
   "cell_type": "code",
   "execution_count": 32,
   "metadata": {
    "ExecuteTime": {
     "end_time": "2020-01-11T12:51:19.126105Z",
     "start_time": "2020-01-11T12:51:19.120120Z"
    }
   },
   "outputs": [],
   "source": [
    "def step(state, action):\n",
    "    if state == A_POS:\n",
    "        return A_PRIME_POS, 10\n",
    "    if state == B_POS:\n",
    "        return B_PRIME_POS, 5\n",
    "\n",
    "    next_state = (np.array(state) + action).tolist()\n",
    "    x, y = next_state\n",
    "    if x < 0 or x >= WORLD_SIZE or y < 0 or y >= WORLD_SIZE:\n",
    "        reward = -1.0\n",
    "        next_state = state\n",
    "    else:\n",
    "        reward = 0\n",
    "    return next_state, reward"
   ]
  },
  {
   "cell_type": "code",
   "execution_count": 33,
   "metadata": {
    "ExecuteTime": {
     "end_time": "2020-01-11T12:51:19.135080Z",
     "start_time": "2020-01-11T12:51:19.128099Z"
    }
   },
   "outputs": [],
   "source": [
    "def draw_image(image):\n",
    "    fig, ax = plt.subplots()\n",
    "    ax.set_axis_off()\n",
    "    tb = Table(ax, bbox=[0, 0, 1, 1])\n",
    "\n",
    "    nrows, ncols = image.shape\n",
    "    width, height = 1.0 / ncols, 1.0 / nrows\n",
    "\n",
    "    # Add cells\n",
    "    for (i, j), val in np.ndenumerate(image):\n",
    "        tb.add_cell(i, j, width, height, text=val,\n",
    "                    loc='center', facecolor='white')\n",
    "\n",
    "    # Row and column labels...\n",
    "    # 行号、列号\n",
    "    for i in range(len(image)):\n",
    "        tb.add_cell(i, -1, width, height, text=i+1, loc='right',\n",
    "                    edgecolor='none', facecolor='none')\n",
    "        tb.add_cell(-1, i, width, height/2, text=i+1, loc='center',\n",
    "                    edgecolor='none', facecolor='none')\n",
    "\n",
    "    ax.add_table(tb)"
   ]
  },
  {
   "cell_type": "code",
   "execution_count": 34,
   "metadata": {
    "ExecuteTime": {
     "end_time": "2020-01-11T12:51:19.144056Z",
     "start_time": "2020-01-11T12:51:19.137075Z"
    }
   },
   "outputs": [],
   "source": [
    "def figure_3_2():\n",
    "    value = np.zeros((WORLD_SIZE, WORLD_SIZE))\n",
    "    while True:\n",
    "        # keep iteration until convergence\n",
    "        # 直到迭代不动了，停止（收敛到解了）\n",
    "        new_value = np.zeros_like(value)\n",
    "        for i in range(WORLD_SIZE):\n",
    "            for j in range(WORLD_SIZE):\n",
    "                for action in ACTIONS:\n",
    "                    # 上下左右都进行一遍（因为现在的策略是等概率选择上下左右的）\n",
    "                    (next_i, next_j), reward = step([i, j], action)\n",
    "                    # bellman equation\n",
    "                    new_value[i, j] += ACTION_PROB * (reward + DISCOUNT * value[next_i, next_j])\n",
    "        if np.sum(np.abs(value - new_value)) < 1e-4:\n",
    "            draw_image(np.round(new_value, decimals=2))\n",
    "            plt.show()\n",
    "            break\n",
    "        value = new_value"
   ]
  },
  {
   "cell_type": "code",
   "execution_count": 35,
   "metadata": {
    "ExecuteTime": {
     "end_time": "2020-01-11T12:51:19.303928Z",
     "start_time": "2020-01-11T12:51:19.145057Z"
    }
   },
   "outputs": [
    {
     "data": {
      "image/png": "[encoded data removed]",
      "text/plain": [
       "<Figure size 432x288 with 1 Axes>"
      ]
     },
     "metadata": {
      "needs_background": "light"
     },
     "output_type": "display_data"
    }
   ],
   "source": [
    "figure_3_2()"
   ]
  },
  {
   "cell_type": "code",
   "execution_count": 36,
   "metadata": {
    "ExecuteTime": {
     "end_time": "2020-01-11T12:51:19.309913Z",
     "start_time": "2020-01-11T12:51:19.304926Z"
    }
   },
   "outputs": [],
   "source": [
    "def figure_3_5():\n",
    "    value = np.zeros((WORLD_SIZE, WORLD_SIZE))\n",
    "    while True:\n",
    "        # keep iteration until convergence\n",
    "        new_value = np.zeros_like(value)\n",
    "        for i in range(WORLD_SIZE):\n",
    "            for j in range(WORLD_SIZE):\n",
    "                values = []\n",
    "                for action in ACTIONS:\n",
    "                    (next_i, next_j), reward = step([i, j], action)\n",
    "                    # value iteration\n",
    "                    values.append(reward + DISCOUNT * value[next_i, next_j])\n",
    "                # 这里，没有保留每个状态的最优动作是什么，让我做个改进\n",
    "                new_value[i, j] = np.max(values)\n",
    "        if np.sum(np.abs(new_value - value)) < 1e-4:\n",
    "            draw_image(np.round(new_value, decimals=2))\n",
    "            plt.show()\n",
    "            break\n",
    "        value = new_value"
   ]
  },
  {
   "cell_type": "code",
   "execution_count": 37,
   "metadata": {
    "ExecuteTime": {
     "end_time": "2020-01-11T12:51:19.935651Z",
     "start_time": "2020-01-11T12:51:19.310909Z"
    }
   },
   "outputs": [
    {
     "data": {
      "image/png": "[encoded data removed]",
      "text/plain": [
       "<Figure size 432x288 with 1 Axes>"
      ]
     },
     "metadata": {
      "needs_background": "light"
     },
     "output_type": "display_data"
    }
   ],
   "source": [
    "figure_3_5()"
   ]
  },
  {
   "cell_type": "code",
   "execution_count": 48,
   "metadata": {
    "ExecuteTime": {
     "end_time": "2020-01-11T13:33:22.415984Z",
     "start_time": "2020-01-11T13:33:22.407974Z"
    }
   },
   "outputs": [],
   "source": [
    "def figure_3_5_prove():\n",
    "    # PiperLiu@qq.com\n",
    "    # 2020-1-11 20:48:40\n",
    "    value = np.zeros((WORLD_SIZE, WORLD_SIZE))\n",
    "    while True:\n",
    "        # keep iteration until convergence\n",
    "        new_value = np.zeros_like(value)\n",
    "        action_optimal = dict()\n",
    "        for i in range(WORLD_SIZE):\n",
    "            for j in range(WORLD_SIZE):\n",
    "                values = []\n",
    "                for action in ACTIONS:\n",
    "                    (next_i, next_j), reward = step([i, j], action)\n",
    "                    # value iteration\n",
    "                    values.append(reward + DISCOUNT * value[next_i, next_j])\n",
    "                # 这里，没有保留每个状态的最优动作是什么，让我做个改进\n",
    "                new_value[i, j] = np.max(values)\n",
    "                action_optimal.setdefault((i, j), np.where(new_value[i, j] == values))\n",
    "        if np.sum(np.abs(new_value - value)) < 1e-4:\n",
    "            draw_image_prove(action_optimal)\n",
    "            plt.show()\n",
    "            break\n",
    "        value = new_value\n",
    "\n",
    "def number2char(number):\n",
    "    if number == 0:\n",
    "        return 'left,'\n",
    "    elif number == 1:\n",
    "        return 'up,'\n",
    "    elif number == 2:\n",
    "        return 'right,'\n",
    "    return 'down,'\n",
    "\n",
    "def number2str(number):\n",
    "    str = ''\n",
    "    for num in number[0]:\n",
    "        str = str + number2char(num)\n",
    "    return str\n",
    "\n",
    "def draw_image_prove(image):\n",
    "    fig, ax = plt.subplots()\n",
    "    ax.set_axis_off()\n",
    "    tb = Table(ax, bbox=[0, 0, 1, 1])\n",
    "\n",
    "    nrows, ncols = 0, 0\n",
    "    for key in image:\n",
    "        if key[0] > nrows:\n",
    "            nrows = key[0]\n",
    "        if key[1] > ncols:\n",
    "            ncols = key[1]\n",
    "    width, height = 1.0 / ncols, 1.0 / nrows\n",
    "\n",
    "    # Add cells\n",
    "    for key in image:\n",
    "        tb.add_cell(key[0], key[1], width, height, text=number2str(image[key]),\n",
    "                    loc='center', facecolor='white')\n",
    "\n",
    "    # Row and column labels...\n",
    "    for i in range(nrows):  # 这里默认为正方形了，可以向原仓库提供一个pull request\n",
    "        tb.add_cell(i, -1, width, height, text=i+1, loc='right',\n",
    "                    edgecolor='none', facecolor='none')\n",
    "        tb.add_cell(-1, i, width, height/2, text=i+1, loc='center',\n",
    "                    edgecolor='none', facecolor='none')\n",
    "\n",
    "    ax.add_table(tb)"
   ]
  },
  {
   "cell_type": "code",
   "execution_count": 49,
   "metadata": {
    "ExecuteTime": {
     "end_time": "2020-01-11T13:33:25.504840Z",
     "start_time": "2020-01-11T13:33:25.268091Z"
    }
   },
   "outputs": [
    {
     "data": {
      "image/png": "[encoded data removed]",
      "text/plain": [
       "<Figure size 432x288 with 1 Axes>"
      ]
     },
     "metadata": {
      "needs_background": "light"
     },
     "output_type": "display_data"
    }
   ],
   "source": [
    "figure_3_5_prove()"
   ]
  },
  {
   "cell_type": "markdown",
   "metadata": {},
   "source": [
    "**如上，我写的代码，所产出的最优动作结果与书上结果一致。**\n",
    "\n",
    "2020-1-11 21:33:57"
   ]
  },
  {
   "cell_type": "code",
   "execution_count": null,
   "metadata": {},
   "outputs": [],
   "source": []
  }
 ],
 "metadata": {
  "kernelspec": {
   "display_name": "Python 3",
   "language": "python",
   "name": "python3"
  },
  "language_info": {
   "codemirror_mode": {
    "name": "ipython",
    "version": 3
   },
   "file_extension": ".py",
   "mimetype": "text/x-python",
   "name": "python",
   "nbconvert_exporter": "python",
   "pygments_lexer": "ipython3",
   "version": "3.7.0"
  },
  "toc": {
   "base_numbering": 1,
   "nav_menu": {},
   "number_sections": true,
   "sideBar": true,
   "skip_h1_title": false,
   "title_cell": "Table of Contents",
   "title_sidebar": "Contents",
   "toc_cell": false,
   "toc_position": {},
   "toc_section_display": true,
   "toc_window_display": false
  },
  "varInspector": {
   "cols": {
    "lenName": 16,
    "lenType": 16,
    "lenVar": 40
   },
   "kernels_config": {
    "python": {
     "delete_cmd_postfix": "",
     "delete_cmd_prefix": "del ",
     "library": "var_list.py",
     "varRefreshCmd": "print(var_dic_list())"
    },
    "r": {
     "delete_cmd_postfix": ") ",
     "delete_cmd_prefix": "rm(",
     "library": "var_list.r",
     "varRefreshCmd": "cat(var_dic_list()) "
    }
   },
   "types_to_exclude": [
    "module",
    "function",
    "builtin_function_or_method",
    "instance",
    "_Feature"
   ],
   "window_display": false
  }
 },
 "nbformat": 4,
 "nbformat_minor": 2
}
