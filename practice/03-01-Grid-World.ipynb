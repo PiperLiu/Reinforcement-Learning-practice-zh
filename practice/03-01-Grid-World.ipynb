{
 "nbformat": 4,
 "nbformat_minor": 2,
 "metadata": {
  "language_info": {
   "name": "python",
   "codemirror_mode": {
    "name": "ipython",
    "version": 3
   },
   "version": "3.7.0-final"
  },
  "orig_nbformat": 2,
  "file_extension": ".py",
  "mimetype": "text/x-python",
  "name": "python",
  "npconvert_exporter": "python",
  "pygments_lexer": "ipython3",
  "version": 3,
  "kernelspec": {
   "name": "python37064bitbasecondaf1f4ce8bd9ee468caf98567667ef0765",
   "display_name": "Python 3.7.0 64-bit ('base': conda)"
  }
 },
 "cells": [
  {
   "cell_type": "markdown",
   "execution_count": null,
   "metadata": {},
   "outputs": [],
   "source": [
    "### 网格游戏\n",
    "\n",
    "我们将讨论：\n",
    "- in-place与out-of-place在实现中的区别；\n",
    "- 同[02-MDP-and-Bellman-Equation.ipynb](02-MDP-and-Bellman-Equation.ipynb)，我们将改进[Zhang的代码](https://github.com/ShangtongZhang/reinforcement-learning-an-introduction/blob/master/chapter04/grid_world.py)，尝试在jupyter中查看最优动作。"
   ]
  },
  {
   "cell_type": "code",
   "execution_count": 15,
   "metadata": {},
   "outputs": [],
   "source": [
    "import matplotlib\n",
    "import matplotlib.pyplot as plt\n",
    "import numpy as np\n",
    "from matplotlib.table import Table\n",
    "%matplotlib inline\n",
    "\n",
    "WORLD_SIZE = 4\n",
    "# left, up, right, down\n",
    "ACTIONS = [np.array([0, -1]),\n",
    "           np.array([-1, 0]),\n",
    "           np.array([0, 1]),\n",
    "           np.array([1, 0])]\n",
    "ACTION_PROB = 0.25\n",
    "\n",
    "\n",
    "def is_terminal(state):\n",
    "    x, y = state\n",
    "    return (x == 0 and y == 0) or (x == WORLD_SIZE - 1 and y == WORLD_SIZE - 1)\n",
    "\n",
    "\n",
    "def step(state, action):\n",
    "    if is_terminal(state):\n",
    "        return state, 0\n",
    "\n",
    "    next_state = (np.array(state) + action).tolist()\n",
    "    x, y = next_state\n",
    "\n",
    "    if x < 0 or x >= WORLD_SIZE or y < 0 or y >= WORLD_SIZE:\n",
    "        next_state = state\n",
    "\n",
    "    reward = -1\n",
    "    return next_state, reward\n",
    "\n",
    "\n",
    "def draw_image(image):\n",
    "    fig, ax = plt.subplots()\n",
    "    ax.set_axis_off()\n",
    "    tb = Table(ax, bbox=[0, 0, 1, 1])\n",
    "\n",
    "    nrows, ncols = image.shape\n",
    "    width, height = 1.0 / ncols, 1.0 / nrows\n",
    "\n",
    "    # Add cells\n",
    "    for (i, j), val in np.ndenumerate(image):\n",
    "        tb.add_cell(i, j, width, height, text=val,\n",
    "                    loc='center', facecolor='white')\n",
    "\n",
    "        # Row and column labels...\n",
    "    for i in range(len(image)):\n",
    "        tb.add_cell(i, -1, width, height, text=i+1, loc='right',\n",
    "                    edgecolor='none', facecolor='none')\n",
    "        tb.add_cell(-1, i, width, height/2, text=i+1, loc='center',\n",
    "                    edgecolor='none', facecolor='none')\n",
    "    ax.add_table(tb)\n",
    "\n",
    "\n",
    "def compute_state_value(in_place=True, discount=1.0):\n",
    "    new_state_values = np.zeros((WORLD_SIZE, WORLD_SIZE))\n",
    "    iteration = 0\n",
    "    while True:\n",
    "        if in_place:\n",
    "            # 在 in place 下， state_values 和 new_state_values 是同一个数组，不同名字\n",
    "            state_values = new_state_values\n",
    "        else:\n",
    "            state_values = new_state_values.copy()\n",
    "        old_state_values = state_values.copy()\n",
    "\n",
    "        for i in range(WORLD_SIZE):\n",
    "            for j in range(WORLD_SIZE):\n",
    "                value = 0\n",
    "                for action in ACTIONS:\n",
    "                    (next_i, next_j), reward = step([i, j], action)\n",
    "                    value += ACTION_PROB * (reward + discount * state_values[next_i, next_j])\n",
    "                # 在 in place 下，对 new_state_values 进行更新即对 state_values 更新；\n",
    "                # in place 下，对 state_values 立即更新，即会对本次迭代中的其他状态产生影响\n",
    "                # 否则，使用 out of place 迭代策略，本次迭代中贝尔曼公式用到的 state_values 都来自上次迭代\n",
    "                new_state_values[i, j] = value\n",
    "\n",
    "        max_delta_value = abs(old_state_values - new_state_values).max()\n",
    "        if max_delta_value < 1e-4:\n",
    "            break\n",
    "\n",
    "        iteration += 1\n",
    "\n",
    "    return new_state_values, iteration\n",
    "\n",
    "\n",
    "def figure_4_1():\n",
    "    # While the author suggests using in-place iterative policy evaluation,\n",
    "    # Figure 4.1 actually uses out-of-place version.\n",
    "    _, asycn_iteration = compute_state_value(in_place=True)\n",
    "    values, sync_iteration = compute_state_value(in_place=False)\n",
    "    draw_image(np.round(values, decimals=2))\n",
    "    print('In-place: {} iterations'.format(asycn_iteration))\n",
    "    print('Synchronous: {} iterations'.format(sync_iteration))\n",
    "\n",
    "    plt.plot()"
   ]
  },
  {
   "cell_type": "code",
   "execution_count": 16,
   "metadata": {},
   "outputs": [
    {
     "name": "stdout",
     "output_type": "stream",
     "text": "In-place: 113 iterations\nSynchronous: 172 iterations\n"
    },
    {
     "data": {
      "image/png": "[encoded data removed]",
      "image/svg+xml": "<?xml version=\"1.0\" encoding=\"utf-8\" standalone=\"no\"?>\r\n<!DOCTYPE svg PUBLIC \"-//W3C//DTD SVG 1.1//EN\"\r\n  \"http://www.w3.org/Graphics/SVG/1.1/DTD/svg11.dtd\">\r\n<!-- Created with matplotlib (http://matplotlib.org/) -->\r\n<svg height=\"275.698125pt\" version=\"1.1\" viewBox=\"0 0 436.4 275.698125\" width=\"436.4pt\" xmlns=\"http://www.w3.org/2000/svg\" xmlns:xlink=\"http://www.w3.org/1999/xlink\">\r\n <defs>\r\n  <style type=\"text/css\">\r\n*{stroke-linecap:butt;stroke-linejoin:round;}\r\n  </style>\r\n </defs>\r\n <g id=\"figure_1\">\r\n  <g id=\"patch_1\">\r\n   <path d=\"M 0 275.698125 \r\nL 436.4 275.698125 \r\nL 436.4 0 \r\nL 0 0 \r\nz\r\n\" style=\"fill:none;\"/>\r\n  </g>\r\n  <g id=\"axes_1\">\r\n   <g id=\"table_1\">\r\n    <g id=\"patch_2\">\r\n     <path d=\"M 90.9 34.38 \r\nL 174.6 34.38 \r\nL 174.6 7.2 \r\nL 90.9 7.2 \r\nz\r\n\" style=\"fill:none;\"/>\r\n    </g>\r\n    <g id=\"text_1\">\r\n     <!-- 1 -->\r\n     <defs>\r\n      <path d=\"M 12.40625 8.296875 \r\nL 28.515625 8.296875 \r\nL 28.515625 63.921875 \r\nL 10.984375 60.40625 \r\nL 10.984375 69.390625 \r\nL 28.421875 72.90625 \r\nL 38.28125 72.90625 \r\nL 38.28125 8.296875 \r\nL 54.390625 8.296875 \r\nL 54.390625 0 \r\nL 12.40625 0 \r\nz\r\n\" id=\"DejaVuSans-31\"/>\r\n     </defs>\r\n     <g transform=\"translate(129.56875 23.549375)scale(0.1 -0.1)\">\r\n      <use xlink:href=\"#DejaVuSans-31\"/>\r\n     </g>\r\n    </g>\r\n    <g id=\"patch_3\">\r\n     <path d=\"M 174.6 34.38 \r\nL 258.3 34.38 \r\nL 258.3 7.2 \r\nL 174.6 7.2 \r\nz\r\n\" style=\"fill:none;\"/>\r\n    </g>\r\n    <g id=\"text_2\">\r\n     <!-- 2 -->\r\n     <defs>\r\n      <path d=\"M 19.1875 8.296875 \r\nL 53.609375 8.296875 \r\nL 53.609375 0 \r\nL 7.328125 0 \r\nL 7.328125 8.296875 \r\nQ 12.9375 14.109375 22.625 23.890625 \r\nQ 32.328125 33.6875 34.8125 36.53125 \r\nQ 39.546875 41.84375 41.421875 45.53125 \r\nQ 43.3125 49.21875 43.3125 52.78125 \r\nQ 43.3125 58.59375 39.234375 62.25 \r\nQ 35.15625 65.921875 28.609375 65.921875 \r\nQ 23.96875 65.921875 18.8125 64.3125 \r\nQ 13.671875 62.703125 7.8125 59.421875 \r\nL 7.8125 69.390625 \r\nQ 13.765625 71.78125 18.9375 73 \r\nQ 24.125 74.21875 28.421875 74.21875 \r\nQ 39.75 74.21875 46.484375 68.546875 \r\nQ 53.21875 62.890625 53.21875 53.421875 \r\nQ 53.21875 48.921875 51.53125 44.890625 \r\nQ 49.859375 40.875 45.40625 35.40625 \r\nQ 44.1875 33.984375 37.640625 27.21875 \r\nQ 31.109375 20.453125 19.1875 8.296875 \r\nz\r\n\" id=\"DejaVuSans-32\"/>\r\n     </defs>\r\n     <g transform=\"translate(213.26875 23.549375)scale(0.1 -0.1)\">\r\n      <use xlink:href=\"#DejaVuSans-32\"/>\r\n     </g>\r\n    </g>\r\n    <g id=\"patch_4\">\r\n     <path d=\"M 258.3 34.38 \r\nL 342 34.38 \r\nL 342 7.2 \r\nL 258.3 7.2 \r\nz\r\n\" style=\"fill:none;\"/>\r\n    </g>\r\n    <g id=\"text_3\">\r\n     <!-- 3 -->\r\n     <defs>\r\n      <path d=\"M 40.578125 39.3125 \r\nQ 47.65625 37.796875 51.625 33 \r\nQ 55.609375 28.21875 55.609375 21.1875 \r\nQ 55.609375 10.40625 48.1875 4.484375 \r\nQ 40.765625 -1.421875 27.09375 -1.421875 \r\nQ 22.515625 -1.421875 17.65625 -0.515625 \r\nQ 12.796875 0.390625 7.625 2.203125 \r\nL 7.625 11.71875 \r\nQ 11.71875 9.328125 16.59375 8.109375 \r\nQ 21.484375 6.890625 26.8125 6.890625 \r\nQ 36.078125 6.890625 40.9375 10.546875 \r\nQ 45.796875 14.203125 45.796875 21.1875 \r\nQ 45.796875 27.640625 41.28125 31.265625 \r\nQ 36.765625 34.90625 28.71875 34.90625 \r\nL 20.21875 34.90625 \r\nL 20.21875 43.015625 \r\nL 29.109375 43.015625 \r\nQ 36.375 43.015625 40.234375 45.921875 \r\nQ 44.09375 48.828125 44.09375 54.296875 \r\nQ 44.09375 59.90625 40.109375 62.90625 \r\nQ 36.140625 65.921875 28.71875 65.921875 \r\nQ 24.65625 65.921875 20.015625 65.03125 \r\nQ 15.375 64.15625 9.8125 62.3125 \r\nL 9.8125 71.09375 \r\nQ 15.4375 72.65625 20.34375 73.4375 \r\nQ 25.25 74.21875 29.59375 74.21875 \r\nQ 40.828125 74.21875 47.359375 69.109375 \r\nQ 53.90625 64.015625 53.90625 55.328125 \r\nQ 53.90625 49.265625 50.4375 45.09375 \r\nQ 46.96875 40.921875 40.578125 39.3125 \r\nz\r\n\" id=\"DejaVuSans-33\"/>\r\n     </defs>\r\n     <g transform=\"translate(296.96875 23.549375)scale(0.1 -0.1)\">\r\n      <use xlink:href=\"#DejaVuSans-33\"/>\r\n     </g>\r\n    </g>\r\n    <g id=\"patch_5\">\r\n     <path d=\"M 342 34.38 \r\nL 425.7 34.38 \r\nL 425.7 7.2 \r\nL 342 7.2 \r\nz\r\n\" style=\"fill:none;\"/>\r\n    </g>\r\n    <g id=\"text_4\">\r\n     <!-- 4 -->\r\n     <defs>\r\n      <path d=\"M 37.796875 64.3125 \r\nL 12.890625 25.390625 \r\nL 37.796875 25.390625 \r\nz\r\nM 35.203125 72.90625 \r\nL 47.609375 72.90625 \r\nL 47.609375 25.390625 \r\nL 58.015625 25.390625 \r\nL 58.015625 17.1875 \r\nL 47.609375 17.1875 \r\nL 47.609375 0 \r\nL 37.796875 0 \r\nL 37.796875 17.1875 \r\nL 4.890625 17.1875 \r\nL 4.890625 26.703125 \r\nz\r\n\" id=\"DejaVuSans-34\"/>\r\n     </defs>\r\n     <g transform=\"translate(380.66875 23.549375)scale(0.1 -0.1)\">\r\n      <use xlink:href=\"#DejaVuSans-34\"/>\r\n     </g>\r\n    </g>\r\n    <g id=\"patch_6\">\r\n     <path d=\"M 7.2 88.74 \r\nL 90.9 88.74 \r\nL 90.9 34.38 \r\nL 7.2 34.38 \r\nz\r\n\" style=\"fill:none;\"/>\r\n    </g>\r\n    <g id=\"text_5\">\r\n     <!-- 1 -->\r\n     <g transform=\"translate(76.1675 64.319375)scale(0.1 -0.1)\">\r\n      <use xlink:href=\"#DejaVuSans-31\"/>\r\n     </g>\r\n    </g>\r\n    <g id=\"patch_7\">\r\n     <path d=\"M 90.9 88.74 \r\nL 174.6 88.74 \r\nL 174.6 34.38 \r\nL 90.9 34.38 \r\nz\r\n\" style=\"fill:#ffffff;stroke:#000000;stroke-linejoin:miter;\"/>\r\n    </g>\r\n    <g id=\"text_6\">\r\n     <!-- 0.0 -->\r\n     <defs>\r\n      <path d=\"M 31.78125 66.40625 \r\nQ 24.171875 66.40625 20.328125 58.90625 \r\nQ 16.5 51.421875 16.5 36.375 \r\nQ 16.5 21.390625 20.328125 13.890625 \r\nQ 24.171875 6.390625 31.78125 6.390625 \r\nQ 39.453125 6.390625 43.28125 13.890625 \r\nQ 47.125 21.390625 47.125 36.375 \r\nQ 47.125 51.421875 43.28125 58.90625 \r\nQ 39.453125 66.40625 31.78125 66.40625 \r\nz\r\nM 31.78125 74.21875 \r\nQ 44.046875 74.21875 50.515625 64.515625 \r\nQ 56.984375 54.828125 56.984375 36.375 \r\nQ 56.984375 17.96875 50.515625 8.265625 \r\nQ 44.046875 -1.421875 31.78125 -1.421875 \r\nQ 19.53125 -1.421875 13.0625 8.265625 \r\nQ 6.59375 17.96875 6.59375 36.375 \r\nQ 6.59375 54.828125 13.0625 64.515625 \r\nQ 19.53125 74.21875 31.78125 74.21875 \r\nz\r\n\" id=\"DejaVuSans-30\"/>\r\n      <path d=\"M 10.6875 12.40625 \r\nL 21 12.40625 \r\nL 21 0 \r\nL 10.6875 0 \r\nz\r\n\" id=\"DejaVuSans-2e\"/>\r\n     </defs>\r\n     <g transform=\"translate(124.798438 64.319375)scale(0.1 -0.1)\">\r\n      <use xlink:href=\"#DejaVuSans-30\"/>\r\n      <use x=\"63.623047\" xlink:href=\"#DejaVuSans-2e\"/>\r\n      <use x=\"95.410156\" xlink:href=\"#DejaVuSans-30\"/>\r\n     </g>\r\n    </g>\r\n    <g id=\"patch_8\">\r\n     <path d=\"M 174.6 88.74 \r\nL 258.3 88.74 \r\nL 258.3 34.38 \r\nL 174.6 34.38 \r\nz\r\n\" style=\"fill:#ffffff;stroke:#000000;stroke-linejoin:miter;\"/>\r\n    </g>\r\n    <g id=\"text_7\">\r\n     <!-- -14.0 -->\r\n     <defs>\r\n      <path d=\"M 4.890625 31.390625 \r\nL 31.203125 31.390625 \r\nL 31.203125 23.390625 \r\nL 4.890625 23.390625 \r\nz\r\n\" id=\"DejaVuSans-2d\"/>\r\n     </defs>\r\n     <g transform=\"translate(203.513281 64.319375)scale(0.1 -0.1)\">\r\n      <use xlink:href=\"#DejaVuSans-2d\"/>\r\n      <use x=\"36.083984\" xlink:href=\"#DejaVuSans-31\"/>\r\n      <use x=\"99.707031\" xlink:href=\"#DejaVuSans-34\"/>\r\n      <use x=\"163.330078\" xlink:href=\"#DejaVuSans-2e\"/>\r\n      <use x=\"195.117188\" xlink:href=\"#DejaVuSans-30\"/>\r\n     </g>\r\n    </g>\r\n    <g id=\"patch_9\">\r\n     <path d=\"M 258.3 88.74 \r\nL 342 88.74 \r\nL 342 34.38 \r\nL 258.3 34.38 \r\nz\r\n\" style=\"fill:#ffffff;stroke:#000000;stroke-linejoin:miter;\"/>\r\n    </g>\r\n    <g id=\"text_8\">\r\n     <!-- -20.0 -->\r\n     <g transform=\"translate(287.213281 64.319375)scale(0.1 -0.1)\">\r\n      <use xlink:href=\"#DejaVuSans-2d\"/>\r\n      <use x=\"36.083984\" xlink:href=\"#DejaVuSans-32\"/>\r\n      <use x=\"99.707031\" xlink:href=\"#DejaVuSans-30\"/>\r\n      <use x=\"163.330078\" xlink:href=\"#DejaVuSans-2e\"/>\r\n      <use x=\"195.117188\" xlink:href=\"#DejaVuSans-30\"/>\r\n     </g>\r\n    </g>\r\n    <g id=\"patch_10\">\r\n     <path d=\"M 342 88.74 \r\nL 425.7 88.74 \r\nL 425.7 34.38 \r\nL 342 34.38 \r\nz\r\n\" style=\"fill:#ffffff;stroke:#000000;stroke-linejoin:miter;\"/>\r\n    </g>\r\n    <g id=\"text_9\">\r\n     <!-- -22.0 -->\r\n     <g transform=\"translate(370.913281 64.319375)scale(0.1 -0.1)\">\r\n      <use xlink:href=\"#DejaVuSans-2d\"/>\r\n      <use x=\"36.083984\" xlink:href=\"#DejaVuSans-32\"/>\r\n      <use x=\"99.707031\" xlink:href=\"#DejaVuSans-32\"/>\r\n      <use x=\"163.330078\" xlink:href=\"#DejaVuSans-2e\"/>\r\n      <use x=\"195.117188\" xlink:href=\"#DejaVuSans-30\"/>\r\n     </g>\r\n    </g>\r\n    <g id=\"patch_11\">\r\n     <path d=\"M 7.2 143.1 \r\nL 90.9 143.1 \r\nL 90.9 88.74 \r\nL 7.2 88.74 \r\nz\r\n\" style=\"fill:none;\"/>\r\n    </g>\r\n    <g id=\"text_10\">\r\n     <!-- 2 -->\r\n     <g transform=\"translate(76.1675 118.679375)scale(0.1 -0.1)\">\r\n      <use xlink:href=\"#DejaVuSans-32\"/>\r\n     </g>\r\n    </g>\r\n    <g id=\"patch_12\">\r\n     <path d=\"M 90.9 143.1 \r\nL 174.6 143.1 \r\nL 174.6 88.74 \r\nL 90.9 88.74 \r\nz\r\n\" style=\"fill:#ffffff;stroke:#000000;stroke-linejoin:miter;\"/>\r\n    </g>\r\n    <g id=\"text_11\">\r\n     <!-- -14.0 -->\r\n     <g transform=\"translate(119.813281 118.679375)scale(0.1 -0.1)\">\r\n      <use xlink:href=\"#DejaVuSans-2d\"/>\r\n      <use x=\"36.083984\" xlink:href=\"#DejaVuSans-31\"/>\r\n      <use x=\"99.707031\" xlink:href=\"#DejaVuSans-34\"/>\r\n      <use x=\"163.330078\" xlink:href=\"#DejaVuSans-2e\"/>\r\n      <use x=\"195.117188\" xlink:href=\"#DejaVuSans-30\"/>\r\n     </g>\r\n    </g>\r\n    <g id=\"patch_13\">\r\n     <path d=\"M 174.6 143.1 \r\nL 258.3 143.1 \r\nL 258.3 88.74 \r\nL 174.6 88.74 \r\nz\r\n\" style=\"fill:#ffffff;stroke:#000000;stroke-linejoin:miter;\"/>\r\n    </g>\r\n    <g id=\"text_12\">\r\n     <!-- -18.0 -->\r\n     <defs>\r\n      <path d=\"M 31.78125 34.625 \r\nQ 24.75 34.625 20.71875 30.859375 \r\nQ 16.703125 27.09375 16.703125 20.515625 \r\nQ 16.703125 13.921875 20.71875 10.15625 \r\nQ 24.75 6.390625 31.78125 6.390625 \r\nQ 38.8125 6.390625 42.859375 10.171875 \r\nQ 46.921875 13.96875 46.921875 20.515625 \r\nQ 46.921875 27.09375 42.890625 30.859375 \r\nQ 38.875 34.625 31.78125 34.625 \r\nz\r\nM 21.921875 38.8125 \r\nQ 15.578125 40.375 12.03125 44.71875 \r\nQ 8.5 49.078125 8.5 55.328125 \r\nQ 8.5 64.0625 14.71875 69.140625 \r\nQ 20.953125 74.21875 31.78125 74.21875 \r\nQ 42.671875 74.21875 48.875 69.140625 \r\nQ 55.078125 64.0625 55.078125 55.328125 \r\nQ 55.078125 49.078125 51.53125 44.71875 \r\nQ 48 40.375 41.703125 38.8125 \r\nQ 48.828125 37.15625 52.796875 32.3125 \r\nQ 56.78125 27.484375 56.78125 20.515625 \r\nQ 56.78125 9.90625 50.3125 4.234375 \r\nQ 43.84375 -1.421875 31.78125 -1.421875 \r\nQ 19.734375 -1.421875 13.25 4.234375 \r\nQ 6.78125 9.90625 6.78125 20.515625 \r\nQ 6.78125 27.484375 10.78125 32.3125 \r\nQ 14.796875 37.15625 21.921875 38.8125 \r\nz\r\nM 18.3125 54.390625 \r\nQ 18.3125 48.734375 21.84375 45.5625 \r\nQ 25.390625 42.390625 31.78125 42.390625 \r\nQ 38.140625 42.390625 41.71875 45.5625 \r\nQ 45.3125 48.734375 45.3125 54.390625 \r\nQ 45.3125 60.0625 41.71875 63.234375 \r\nQ 38.140625 66.40625 31.78125 66.40625 \r\nQ 25.390625 66.40625 21.84375 63.234375 \r\nQ 18.3125 60.0625 18.3125 54.390625 \r\nz\r\n\" id=\"DejaVuSans-38\"/>\r\n     </defs>\r\n     <g transform=\"translate(203.513281 118.679375)scale(0.1 -0.1)\">\r\n      <use xlink:href=\"#DejaVuSans-2d\"/>\r\n      <use x=\"36.083984\" xlink:href=\"#DejaVuSans-31\"/>\r\n      <use x=\"99.707031\" xlink:href=\"#DejaVuSans-38\"/>\r\n      <use x=\"163.330078\" xlink:href=\"#DejaVuSans-2e\"/>\r\n      <use x=\"195.117188\" xlink:href=\"#DejaVuSans-30\"/>\r\n     </g>\r\n    </g>\r\n    <g id=\"patch_14\">\r\n     <path d=\"M 258.3 143.1 \r\nL 342 143.1 \r\nL 342 88.74 \r\nL 258.3 88.74 \r\nz\r\n\" style=\"fill:#ffffff;stroke:#000000;stroke-linejoin:miter;\"/>\r\n    </g>\r\n    <g id=\"text_13\">\r\n     <!-- -20.0 -->\r\n     <g transform=\"translate(287.213281 118.679375)scale(0.1 -0.1)\">\r\n      <use xlink:href=\"#DejaVuSans-2d\"/>\r\n      <use x=\"36.083984\" xlink:href=\"#DejaVuSans-32\"/>\r\n      <use x=\"99.707031\" xlink:href=\"#DejaVuSans-30\"/>\r\n      <use x=\"163.330078\" xlink:href=\"#DejaVuSans-2e\"/>\r\n      <use x=\"195.117188\" xlink:href=\"#DejaVuSans-30\"/>\r\n     </g>\r\n    </g>\r\n    <g id=\"patch_15\">\r\n     <path d=\"M 342 143.1 \r\nL 425.7 143.1 \r\nL 425.7 88.74 \r\nL 342 88.74 \r\nz\r\n\" style=\"fill:#ffffff;stroke:#000000;stroke-linejoin:miter;\"/>\r\n    </g>\r\n    <g id=\"text_14\">\r\n     <!-- -20.0 -->\r\n     <g transform=\"translate(370.913281 118.679375)scale(0.1 -0.1)\">\r\n      <use xlink:href=\"#DejaVuSans-2d\"/>\r\n      <use x=\"36.083984\" xlink:href=\"#DejaVuSans-32\"/>\r\n      <use x=\"99.707031\" xlink:href=\"#DejaVuSans-30\"/>\r\n      <use x=\"163.330078\" xlink:href=\"#DejaVuSans-2e\"/>\r\n      <use x=\"195.117188\" xlink:href=\"#DejaVuSans-30\"/>\r\n     </g>\r\n    </g>\r\n    <g id=\"patch_16\">\r\n     <path d=\"M 7.2 197.46 \r\nL 90.9 197.46 \r\nL 90.9 143.1 \r\nL 7.2 143.1 \r\nz\r\n\" style=\"fill:none;\"/>\r\n    </g>\r\n    <g id=\"text_15\">\r\n     <!-- 3 -->\r\n     <g transform=\"translate(76.1675 173.039375)scale(0.1 -0.1)\">\r\n      <use xlink:href=\"#DejaVuSans-33\"/>\r\n     </g>\r\n    </g>\r\n    <g id=\"patch_17\">\r\n     <path d=\"M 90.9 197.46 \r\nL 174.6 197.46 \r\nL 174.6 143.1 \r\nL 90.9 143.1 \r\nz\r\n\" style=\"fill:#ffffff;stroke:#000000;stroke-linejoin:miter;\"/>\r\n    </g>\r\n    <g id=\"text_16\">\r\n     <!-- -20.0 -->\r\n     <g transform=\"translate(119.813281 173.039375)scale(0.1 -0.1)\">\r\n      <use xlink:href=\"#DejaVuSans-2d\"/>\r\n      <use x=\"36.083984\" xlink:href=\"#DejaVuSans-32\"/>\r\n      <use x=\"99.707031\" xlink:href=\"#DejaVuSans-30\"/>\r\n      <use x=\"163.330078\" xlink:href=\"#DejaVuSans-2e\"/>\r\n      <use x=\"195.117188\" xlink:href=\"#DejaVuSans-30\"/>\r\n     </g>\r\n    </g>\r\n    <g id=\"patch_18\">\r\n     <path d=\"M 174.6 197.46 \r\nL 258.3 197.46 \r\nL 258.3 143.1 \r\nL 174.6 143.1 \r\nz\r\n\" style=\"fill:#ffffff;stroke:#000000;stroke-linejoin:miter;\"/>\r\n    </g>\r\n    <g id=\"text_17\">\r\n     <!-- -20.0 -->\r\n     <g transform=\"translate(203.513281 173.039375)scale(0.1 -0.1)\">\r\n      <use xlink:href=\"#DejaVuSans-2d\"/>\r\n      <use x=\"36.083984\" xlink:href=\"#DejaVuSans-32\"/>\r\n      <use x=\"99.707031\" xlink:href=\"#DejaVuSans-30\"/>\r\n      <use x=\"163.330078\" xlink:href=\"#DejaVuSans-2e\"/>\r\n      <use x=\"195.117188\" xlink:href=\"#DejaVuSans-30\"/>\r\n     </g>\r\n    </g>\r\n    <g id=\"patch_19\">\r\n     <path d=\"M 258.3 197.46 \r\nL 342 197.46 \r\nL 342 143.1 \r\nL 258.3 143.1 \r\nz\r\n\" style=\"fill:#ffffff;stroke:#000000;stroke-linejoin:miter;\"/>\r\n    </g>\r\n    <g id=\"text_18\">\r\n     <!-- -18.0 -->\r\n     <g transform=\"translate(287.213281 173.039375)scale(0.1 -0.1)\">\r\n      <use xlink:href=\"#DejaVuSans-2d\"/>\r\n      <use x=\"36.083984\" xlink:href=\"#DejaVuSans-31\"/>\r\n      <use x=\"99.707031\" xlink:href=\"#DejaVuSans-38\"/>\r\n      <use x=\"163.330078\" xlink:href=\"#DejaVuSans-2e\"/>\r\n      <use x=\"195.117188\" xlink:href=\"#DejaVuSans-30\"/>\r\n     </g>\r\n    </g>\r\n    <g id=\"patch_20\">\r\n     <path d=\"M 342 197.46 \r\nL 425.7 197.46 \r\nL 425.7 143.1 \r\nL 342 143.1 \r\nz\r\n\" style=\"fill:#ffffff;stroke:#000000;stroke-linejoin:miter;\"/>\r\n    </g>\r\n    <g id=\"text_19\">\r\n     <!-- -14.0 -->\r\n     <g transform=\"translate(370.913281 173.039375)scale(0.1 -0.1)\">\r\n      <use xlink:href=\"#DejaVuSans-2d\"/>\r\n      <use x=\"36.083984\" xlink:href=\"#DejaVuSans-31\"/>\r\n      <use x=\"99.707031\" xlink:href=\"#DejaVuSans-34\"/>\r\n      <use x=\"163.330078\" xlink:href=\"#DejaVuSans-2e\"/>\r\n      <use x=\"195.117188\" xlink:href=\"#DejaVuSans-30\"/>\r\n     </g>\r\n    </g>\r\n    <g id=\"patch_21\">\r\n     <path d=\"M 7.2 251.82 \r\nL 90.9 251.82 \r\nL 90.9 197.46 \r\nL 7.2 197.46 \r\nz\r\n\" style=\"fill:none;\"/>\r\n    </g>\r\n    <g id=\"text_20\">\r\n     <!-- 4 -->\r\n     <g transform=\"translate(76.1675 227.399375)scale(0.1 -0.1)\">\r\n      <use xlink:href=\"#DejaVuSans-34\"/>\r\n     </g>\r\n    </g>\r\n    <g id=\"patch_22\">\r\n     <path d=\"M 90.9 251.82 \r\nL 174.6 251.82 \r\nL 174.6 197.46 \r\nL 90.9 197.46 \r\nz\r\n\" style=\"fill:#ffffff;stroke:#000000;stroke-linejoin:miter;\"/>\r\n    </g>\r\n    <g id=\"text_21\">\r\n     <!-- -22.0 -->\r\n     <g transform=\"translate(119.813281 227.399375)scale(0.1 -0.1)\">\r\n      <use xlink:href=\"#DejaVuSans-2d\"/>\r\n      <use x=\"36.083984\" xlink:href=\"#DejaVuSans-32\"/>\r\n      <use x=\"99.707031\" xlink:href=\"#DejaVuSans-32\"/>\r\n      <use x=\"163.330078\" xlink:href=\"#DejaVuSans-2e\"/>\r\n      <use x=\"195.117188\" xlink:href=\"#DejaVuSans-30\"/>\r\n     </g>\r\n    </g>\r\n    <g id=\"patch_23\">\r\n     <path d=\"M 174.6 251.82 \r\nL 258.3 251.82 \r\nL 258.3 197.46 \r\nL 174.6 197.46 \r\nz\r\n\" style=\"fill:#ffffff;stroke:#000000;stroke-linejoin:miter;\"/>\r\n    </g>\r\n    <g id=\"text_22\">\r\n     <!-- -20.0 -->\r\n     <g transform=\"translate(203.513281 227.399375)scale(0.1 -0.1)\">\r\n      <use xlink:href=\"#DejaVuSans-2d\"/>\r\n      <use x=\"36.083984\" xlink:href=\"#DejaVuSans-32\"/>\r\n      <use x=\"99.707031\" xlink:href=\"#DejaVuSans-30\"/>\r\n      <use x=\"163.330078\" xlink:href=\"#DejaVuSans-2e\"/>\r\n      <use x=\"195.117188\" xlink:href=\"#DejaVuSans-30\"/>\r\n     </g>\r\n    </g>\r\n    <g id=\"patch_24\">\r\n     <path d=\"M 258.3 251.82 \r\nL 342 251.82 \r\nL 342 197.46 \r\nL 258.3 197.46 \r\nz\r\n\" style=\"fill:#ffffff;stroke:#000000;stroke-linejoin:miter;\"/>\r\n    </g>\r\n    <g id=\"text_23\">\r\n     <!-- -14.0 -->\r\n     <g transform=\"translate(287.213281 227.399375)scale(0.1 -0.1)\">\r\n      <use xlink:href=\"#DejaVuSans-2d\"/>\r\n      <use x=\"36.083984\" xlink:href=\"#DejaVuSans-31\"/>\r\n      <use x=\"99.707031\" xlink:href=\"#DejaVuSans-34\"/>\r\n      <use x=\"163.330078\" xlink:href=\"#DejaVuSans-2e\"/>\r\n      <use x=\"195.117188\" xlink:href=\"#DejaVuSans-30\"/>\r\n     </g>\r\n    </g>\r\n    <g id=\"patch_25\">\r\n     <path d=\"M 342 251.82 \r\nL 425.7 251.82 \r\nL 425.7 197.46 \r\nL 342 197.46 \r\nz\r\n\" style=\"fill:#ffffff;stroke:#000000;stroke-linejoin:miter;\"/>\r\n    </g>\r\n    <g id=\"text_24\">\r\n     <!-- 0.0 -->\r\n     <g transform=\"translate(375.898438 227.399375)scale(0.1 -0.1)\">\r\n      <use xlink:href=\"#DejaVuSans-30\"/>\r\n      <use x=\"63.623047\" xlink:href=\"#DejaVuSans-2e\"/>\r\n      <use x=\"95.410156\" xlink:href=\"#DejaVuSans-30\"/>\r\n     </g>\r\n    </g>\r\n   </g>\r\n  </g>\r\n </g>\r\n</svg>\r\n",
      "text/plain": "<Figure size 432x288 with 1 Axes>"
     },
     "metadata": {
      "needs_background": "light"
     },
     "output_type": "display_data"
    }
   ],
   "source": [
    "figure_4_1()"
   ]
  },
  {
   "cell_type": "markdown",
   "execution_count": null,
   "metadata": {},
   "outputs": [],
   "source": [
    "**请注意：**\n",
    "- 上面 in-place 与 out-of-place 的实现区别；\n",
    "- in-place 与 out-of-place 在迭代速度上的差异。"
   ]
  },
  {
   "cell_type": "markdown",
   "execution_count": null,
   "metadata": {},
   "outputs": [],
   "source": [
    "编程实现上述过程可以有两种方式。第一种情况就是，我们使用两个数组，一个表示$v_{k+1}(s)$，相应另一个是$v_k(s)$。这种情况下，更新了某个状态值并不会影响到这次迭代其它状态值的更新。\n",
    "\n",
    "因为在一轮更新中$v_k(s)$保持不变。这种更新方式和更新顺序没有关系；另一种方式是使用一个数组，替代(in-place)地更新，计算出新的值后立刻替代掉该状态旧的值，这样一轮迭代中一些状态值的更新可能会受到其它状态值更新的影响，in-place也能保证收敛到$v_k(s)$，且更快，因此我们通常采用in-place方法。\n",
    "\n",
    "每轮迭代我们都更新状态空间每个状态的值，这叫做一个sweep，in-place的sweep顺序对收敛的速率有很大影响。"
   ]
  }
 ]
}