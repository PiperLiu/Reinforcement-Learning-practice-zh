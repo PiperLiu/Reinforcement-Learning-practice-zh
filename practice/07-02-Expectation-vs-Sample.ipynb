{
 "cells": [
  {
   "cell_type": "markdown",
   "metadata": {},
   "source": [
    "这段程序帮我们理解什么是期望更新。"
   ]
  },
  {
   "cell_type": "code",
   "execution_count": 1,
   "metadata": {
    "ExecuteTime": {
     "end_time": "2020-02-01T13:53:04.858054Z",
     "start_time": "2020-02-01T13:53:02.439031Z"
    }
   },
   "outputs": [],
   "source": [
    "#######################################################################\n",
    "# Copyright (C)                                                       #\n",
    "# 2018 Shangtong Zhang(zhangshangtong.cpp@gmail.com)                  #\n",
    "# Permission given to modify the code as long as you keep this        #\n",
    "# declaration at the top                                              #\n",
    "#######################################################################\n",
    "\n",
    "import numpy as np\n",
    "import matplotlib\n",
    "%matplotlib inline\n",
    "import matplotlib.pyplot as plt\n",
    "from tqdm import tqdm\n",
    "\n",
    "# for figure 8.7, run a simulation of 2 * @b steps\n",
    "def b_steps(b):\n",
    "    # set the value of the next b states\n",
    "    # it is not clear how to set this\n",
    "    distribution = np.random.randn(b)\n",
    "\n",
    "    # true value of the current state\n",
    "    true_v = np.mean(distribution)\n",
    "\n",
    "    samples = []\n",
    "    errors = []\n",
    "\n",
    "    # sample 2b steps\n",
    "    for t in range(2 * b):\n",
    "        v = np.random.choice(distribution)\n",
    "        samples.append(v)\n",
    "        errors.append(np.abs(np.mean(samples) - true_v))\n",
    "\n",
    "    return errors"
   ]
  },
  {
   "cell_type": "code",
   "execution_count": 2,
   "metadata": {
    "ExecuteTime": {
     "end_time": "2020-02-01T13:53:41.152569Z",
     "start_time": "2020-02-01T13:53:25.756005Z"
    }
   },
   "outputs": [
    {
     "name": "stderr",
     "output_type": "stream",
     "text": [
      "100%|████████████████| 100/100 [00:00<00:00, 4359.48it/s]\n",
      "100%|████████████████| 100/100 [00:00<00:00, 3458.39it/s]\n",
      "100%|█████████████████| 100/100 [00:00<00:00, 257.87it/s]\n",
      "100%|██████████████████| 100/100 [00:14<00:00,  6.98it/s]\n"
     ]
    },
    {
     "data": {
      "image/png": "[encoded data removed]",
      "text/plain": [
       "<Figure size 432x288 with 1 Axes>"
      ]
     },
     "metadata": {
      "needs_background": "light"
     },
     "output_type": "display_data"
    }
   ],
   "source": [
    "runs = 100\n",
    "branch = [2, 10, 100, 1000]\n",
    "for b in branch:\n",
    "    errors = np.zeros((runs, 2 * b))\n",
    "    for r in tqdm(np.arange(runs)):\n",
    "        errors[r] = b_steps(b)\n",
    "    errors = errors.mean(axis=0)\n",
    "    x_axis = (np.arange(len(errors)) + 1) / float(b)\n",
    "    \"\"\"\n",
    "    为什么要 np.zeros((runs, 2 * b)) ?\n",
    "    为了将不同的 b 的数画在 0, 1b, 2b 的坐标上\n",
    "    x_axis 将其横坐标都归一化到了 (0,2b) 的范围\n",
    "    \"\"\"\n",
    "    plt.plot(x_axis, errors, label='b = %d' % (b))\n",
    "\n",
    "plt.xlabel('number of computations')\n",
    "plt.xticks([0, 1.0, 2.0], ['0', 'b', '2b'])\n",
    "plt.ylabel('RMS error')\n",
    "plt.legend()\n",
    "\n",
    "plt.show()"
   ]
  },
  {
   "cell_type": "markdown",
   "metadata": {},
   "source": [
    "- 对于期望更新来讲，在进行了 b 次运算可以将误差降为 0 ；\n",
    "- 但是如果 b 很大，使用采样更新，无需 b 次运算，就可让误差贴近 0 。"
   ]
  },
  {
   "cell_type": "code",
   "execution_count": null,
   "metadata": {},
   "outputs": [],
   "source": []
  }
 ],
 "metadata": {
  "kernelspec": {
   "display_name": "Python 3",
   "language": "python",
   "name": "python3"
  },
  "language_info": {
   "codemirror_mode": {
    "name": "ipython",
    "version": 3
   },
   "file_extension": ".py",
   "mimetype": "text/x-python",
   "name": "python",
   "nbconvert_exporter": "python",
   "pygments_lexer": "ipython3",
   "version": "3.7.0"
  },
  "toc": {
   "base_numbering": 1,
   "nav_menu": {},
   "number_sections": true,
   "sideBar": true,
   "skip_h1_title": false,
   "title_cell": "Table of Contents",
   "title_sidebar": "Contents",
   "toc_cell": false,
   "toc_position": {},
   "toc_section_display": true,
   "toc_window_display": false
  },
  "varInspector": {
   "cols": {
    "lenName": 16,
    "lenType": 16,
    "lenVar": 40
   },
   "kernels_config": {
    "python": {
     "delete_cmd_postfix": "",
     "delete_cmd_prefix": "del ",
     "library": "var_list.py",
     "varRefreshCmd": "print(var_dic_list())"
    },
    "r": {
     "delete_cmd_postfix": ") ",
     "delete_cmd_prefix": "rm(",
     "library": "var_list.r",
     "varRefreshCmd": "cat(var_dic_list()) "
    }
   },
   "types_to_exclude": [
    "module",
    "function",
    "builtin_function_or_method",
    "instance",
    "_Feature"
   ],
   "window_display": false
  }
 },
 "nbformat": 4,
 "nbformat_minor": 2
}
